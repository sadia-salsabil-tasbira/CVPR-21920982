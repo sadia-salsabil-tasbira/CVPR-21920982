{
 "cells": [
  {
   "cell_type": "code",
   "execution_count": 1,
   "metadata": {},
   "outputs": [],
   "source": [
    "import matplotlib.pyplot as plt\n",
    "import random\n",
    "import math"
   ]
  },
  {
   "cell_type": "code",
   "execution_count": 2,
   "metadata": {},
   "outputs": [],
   "source": [
    "X1 = [0,0,1,1]\n",
    "X2 = [0,1,0,1]\n",
    "Y = [0,0,0,1] #and\n",
    "#Y = [0,1,1,1] #or\n"
   ]
  },
  {
   "cell_type": "code",
   "execution_count": 3,
   "metadata": {},
   "outputs": [
    {
     "data": {
      "image/png": "[encoded data removed]",
      "text/plain": [
       "<Figure size 432x288 with 1 Axes>"
      ]
     },
     "metadata": {
      "needs_background": "light"
     },
     "output_type": "display_data"
    }
   ],
   "source": [
    "plt.figure()\n",
    "\n",
    "for i in range(len(Y)):\n",
    "    if Y[i] == 0:\n",
    "        plt.plot(X1[i], X2[i], \"ro\")\n",
    "    else:\n",
    "        plt.plot(X1[i], X2[i], \"go\")\n",
    "        \n",
    "plt.show()"
   ]
  },
  {
   "cell_type": "code",
   "execution_count": 4,
   "metadata": {},
   "outputs": [
    {
     "name": "stdout",
     "output_type": "stream",
     "text": [
      "[0.7615742936176995, 0.9761470530185822] 0.36002662281926445\n"
     ]
    }
   ],
   "source": [
    "W = [random.random(), random.random()]\n",
    "b = random.random()\n",
    "\n",
    "print(W, b)"
   ]
  },
  {
   "cell_type": "code",
   "execution_count": 5,
   "metadata": {},
   "outputs": [],
   "source": [
    "lr=0.02\n",
    "theta=0.5"
   ]
  },
  {
   "cell_type": "code",
   "execution_count": 6,
   "metadata": {},
   "outputs": [
    {
     "name": "stdout",
     "output_type": "stream",
     "text": [
      "Epoch: 0\n",
      "[0 , 0] = 0\n",
      "[0 , 1] = 1\n",
      "[1 , 0] = 1\n",
      "[1 , 1] = 1\n",
      "Total error / Loss: 2.0\n",
      "---------------------------------\n",
      "Epoch: 1\n",
      "[0 , 0] = 0\n",
      "[0 , 1] = 1\n",
      "[1 , 0] = 1\n",
      "[1 , 1] = 1\n",
      "Total error / Loss: 2.0\n",
      "---------------------------------\n",
      "Epoch: 2\n",
      "[0 , 0] = 0\n",
      "[0 , 1] = 1\n",
      "[1 , 0] = 1\n",
      "[1 , 1] = 1\n",
      "Total error / Loss: 2.0\n",
      "---------------------------------\n",
      "Epoch: 3\n",
      "[0 , 0] = 0\n",
      "[0 , 1] = 1\n",
      "[1 , 0] = 1\n",
      "[1 , 1] = 1\n",
      "Total error / Loss: 2.0\n",
      "---------------------------------\n",
      "Epoch: 4\n",
      "[0 , 0] = 0\n",
      "[0 , 1] = 1\n",
      "[1 , 0] = 1\n",
      "[1 , 1] = 1\n",
      "Total error / Loss: 2.0\n",
      "---------------------------------\n",
      "Epoch: 5\n",
      "[0 , 0] = 0\n",
      "[0 , 1] = 1\n",
      "[1 , 0] = 1\n",
      "[1 , 1] = 1\n",
      "Total error / Loss: 2.0\n",
      "---------------------------------\n",
      "Epoch: 6\n",
      "[0 , 0] = 0\n",
      "[0 , 1] = 1\n",
      "[1 , 0] = 1\n",
      "[1 , 1] = 1\n",
      "Total error / Loss: 2.0\n",
      "---------------------------------\n",
      "Epoch: 7\n",
      "[0 , 0] = 0\n",
      "[0 , 1] = 1\n",
      "[1 , 0] = 1\n",
      "[1 , 1] = 1\n",
      "Total error / Loss: 2.0\n",
      "---------------------------------\n",
      "Epoch: 8\n",
      "[0 , 0] = 0\n",
      "[0 , 1] = 1\n",
      "[1 , 0] = 1\n",
      "[1 , 1] = 1\n",
      "Total error / Loss: 2.0\n",
      "---------------------------------\n",
      "Epoch: 9\n",
      "[0 , 0] = 0\n",
      "[0 , 1] = 1\n",
      "[1 , 0] = 1\n",
      "[1 , 1] = 1\n",
      "Total error / Loss: 2.0\n",
      "---------------------------------\n",
      "Epoch: 10\n",
      "[0 , 0] = 0\n",
      "[0 , 1] = 1\n",
      "[1 , 0] = 1\n",
      "[1 , 1] = 1\n",
      "Total error / Loss: 2.0\n",
      "---------------------------------\n",
      "Epoch: 11\n",
      "[0 , 0] = 0\n",
      "[0 , 1] = 1\n",
      "[1 , 0] = 0\n",
      "[1 , 1] = 1\n",
      "Total error / Loss: 1.0\n",
      "---------------------------------\n",
      "Epoch: 12\n",
      "[0 , 0] = 0\n",
      "[0 , 1] = 1\n",
      "[1 , 0] = 0\n",
      "[1 , 1] = 1\n",
      "Total error / Loss: 1.0\n",
      "---------------------------------\n",
      "Epoch: 13\n",
      "[0 , 0] = 0\n",
      "[0 , 1] = 1\n",
      "[1 , 0] = 0\n",
      "[1 , 1] = 1\n",
      "Total error / Loss: 1.0\n",
      "---------------------------------\n",
      "Epoch: 14\n",
      "[0 , 0] = 0\n",
      "[0 , 1] = 1\n",
      "[1 , 0] = 0\n",
      "[1 , 1] = 1\n",
      "Total error / Loss: 1.0\n",
      "---------------------------------\n",
      "Epoch: 15\n",
      "[0 , 0] = 0\n",
      "[0 , 1] = 1\n",
      "[1 , 0] = 0\n",
      "[1 , 1] = 1\n",
      "Total error / Loss: 1.0\n",
      "---------------------------------\n",
      "Epoch: 16\n",
      "[0 , 0] = 0\n",
      "[0 , 1] = 0\n",
      "[1 , 0] = 0\n",
      "[1 , 1] = 1\n",
      "Total error / Loss: 0\n",
      "---------------------------------\n"
     ]
    }
   ],
   "source": [
    "epoch = 0\n",
    "count = 0\n",
    "\n",
    "while count < 4:    \n",
    "    total_error = 0\n",
    "    print(f\"Epoch: {epoch}\")\n",
    "    for i in range(len(Y)):\n",
    "        weighted_sum = W[0]*X1[i] + W[1]*X2[i] + b\n",
    "        pred = 0\n",
    "        if weighted_sum > theta:\n",
    "            pred = 1\n",
    "        error =  Y[i] - pred\n",
    "        \n",
    "        if error != 0:\n",
    "            count = 0\n",
    "            total_error += math.sqrt(error**2)\n",
    "            W[0] += error * X1[i] * lr\n",
    "            W[1] += error * X2[i] *lr\n",
    "            b    += error * lr\n",
    "        else:\n",
    "            count += 1\n",
    "\n",
    "        print(f\"[{X1[i]} , {X2[i]}] = {pred}\")\n",
    "    \n",
    "    print(f\"Total error / Loss: {total_error}\")\n",
    "    print(\"---------------------------------\")\n",
    "    epoch += 1"
   ]
  },
  {
   "cell_type": "code",
   "execution_count": 7,
   "metadata": {},
   "outputs": [
    {
     "name": "stdout",
     "output_type": "stream",
     "text": [
      "W0 =  0.5415742936176993\n",
      "W1 =  0.6561470530185819\n",
      "b =  -0.17997337718073558\n"
     ]
    }
   ],
   "source": [
    "print(\"W0 = \", W[0])\n",
    "print(\"W1 = \", W[1])\n",
    "print(\"b = \", b)"
   ]
  },
  {
   "cell_type": "code",
   "execution_count": 8,
   "metadata": {},
   "outputs": [
    {
     "data": {
      "image/png": "[encoded data removed]",
      "text/plain": [
       "<Figure size 432x288 with 1 Axes>"
      ]
     },
     "metadata": {
      "needs_background": "light"
     },
     "output_type": "display_data"
    }
   ],
   "source": [
    "plt.figure()\n",
    "\n",
    "for i in range(len(Y)):\n",
    "    if Y[i] == 0:\n",
    "        plt.plot(X1[i], X2[i], \"ro\")\n",
    "    else:\n",
    "        plt.plot(X1[i], X2[i], \"go\")\n",
    "        \n",
    "\n",
    "xintr=(theta-b)/W[0]\n",
    "yintr=(theta-b)/W[1]\n",
    "\n",
    "slope=-yintr/xintr\n",
    "xx=plt.xlim()\n",
    "yy = []\n",
    "for x in xx:\n",
    "    yy.append(slope*x+yintr)\n",
    "plt.plot(xx,yy)\n",
    "plt.show()"
   ]
  },
  {
   "cell_type": "code",
   "execution_count": null,
   "metadata": {},
   "outputs": [],
   "source": []
  }
 ],
 "metadata": {
  "kernelspec": {
   "display_name": "Python 3",
   "language": "python",
   "name": "python3"
  },
  "language_info": {
   "codemirror_mode": {
    "name": "ipython",
    "version": 3
   },
   "file_extension": ".py",
   "mimetype": "text/x-python",
   "name": "python",
   "nbconvert_exporter": "python",
   "pygments_lexer": "ipython3",
   "version": "3.6.6"
  }
 },
 "nbformat": 4,
 "nbformat_minor": 2
}
