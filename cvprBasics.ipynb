{
 "cells": [
  {
   "cell_type": "code",
   "execution_count": 1,
   "metadata": {},
   "outputs": [],
   "source": [
    "a = 5"
   ]
  },
  {
   "cell_type": "code",
   "execution_count": 3,
   "metadata": {},
   "outputs": [
    {
     "name": "stdout",
     "output_type": "stream",
     "text": [
      "5\n"
     ]
    }
   ],
   "source": [
    "print (a)\n"
   ]
  },
  {
   "cell_type": "code",
   "execution_count": 4,
   "metadata": {},
   "outputs": [
    {
     "name": "stdout",
     "output_type": "stream",
     "text": [
      "10\n",
      "4\n",
      "10\n",
      "1.0\n"
     ]
    }
   ],
   "source": [
    "print (a+5)\n",
    "print (a-1)\n",
    "print(a*2)\n",
    "print(a/5)"
   ]
  },
  {
   "cell_type": "code",
   "execution_count": 5,
   "metadata": {},
   "outputs": [
    {
     "name": "stdout",
     "output_type": "stream",
     "text": [
      "<class 'int'>\n"
     ]
    }
   ],
   "source": [
    "print(type(a))"
   ]
  },
  {
   "cell_type": "code",
   "execution_count": 6,
   "metadata": {},
   "outputs": [
    {
     "name": "stdout",
     "output_type": "stream",
     "text": [
      "3125\n"
     ]
    }
   ],
   "source": [
    "print(a**5)"
   ]
  },
  {
   "cell_type": "code",
   "execution_count": 7,
   "metadata": {},
   "outputs": [
    {
     "name": "stdout",
     "output_type": "stream",
     "text": [
      "25\n"
     ]
    }
   ],
   "source": [
    "print(a**2)"
   ]
  },
  {
   "cell_type": "code",
   "execution_count": 8,
   "metadata": {},
   "outputs": [
    {
     "name": "stdout",
     "output_type": "stream",
     "text": [
      "2\n"
     ]
    }
   ],
   "source": [
    "print(5//2)"
   ]
  },
  {
   "cell_type": "code",
   "execution_count": 9,
   "metadata": {},
   "outputs": [
    {
     "name": "stdout",
     "output_type": "stream",
     "text": [
      "8\n"
     ]
    }
   ],
   "source": [
    "print(16//2)"
   ]
  },
  {
   "cell_type": "code",
   "execution_count": 10,
   "metadata": {},
   "outputs": [
    {
     "name": "stdout",
     "output_type": "stream",
     "text": [
      "False\n",
      "True\n",
      "True\n",
      "True\n"
     ]
    }
   ],
   "source": [
    "t = True\n",
    "f = False\n",
    "\n",
    "print(t and f)\n",
    "print (t or f)\n",
    "print(not f)\n",
    "print (t != f)"
   ]
  },
  {
   "cell_type": "code",
   "execution_count": 11,
   "metadata": {},
   "outputs": [
    {
     "name": "stdout",
     "output_type": "stream",
     "text": [
      " Hello\n",
      "       CVPR\n",
      "2022\n"
     ]
    }
   ],
   "source": [
    "print (\"\"\" Hello\n",
    "       CVPR\n",
    "2022\"\"\")"
   ]
  },
  {
   "cell_type": "code",
   "execution_count": 12,
   "metadata": {},
   "outputs": [
    {
     "name": "stdout",
     "output_type": "stream",
     "text": [
      "a is 5\n",
      "a is 5\n",
      "a is 5\n",
      "a is 5 5\n"
     ]
    }
   ],
   "source": [
    "a = 5\n",
    "\n",
    "print(f'a is {a}') # Preferred method for this course.\n",
    "print('a is {}'.format(a))\n",
    "print('a is ' + str(a))\n",
    "print('a is %d %d' % (a, a))"
   ]
  },
  {
   "cell_type": "code",
   "execution_count": 13,
   "metadata": {},
   "outputs": [
    {
     "name": "stdout",
     "output_type": "stream",
     "text": [
      "The variable a is 5\n",
      "The variable b is also 6\n"
     ]
    }
   ],
   "source": [
    "a = 5\n",
    "b = 6\n",
    "\n",
    "if a==5:\n",
    "    print('The variable a is 5')\n",
    "    if b==6:\n",
    "        print('The variable b is also 6')\n",
    "elif a==6:\n",
    "    print('The variable a is 6')\n",
    "else:\n",
    "    print('anything')"
   ]
  },
  {
   "cell_type": "code",
   "execution_count": 14,
   "metadata": {},
   "outputs": [
    {
     "name": "stdout",
     "output_type": "stream",
     "text": [
      "1\n",
      "2\n",
      "3\n",
      "4\n",
      "5\n",
      "6\n",
      "7\n",
      "8\n",
      "9\n"
     ]
    }
   ],
   "source": [
    "for x in range(1, 10):  # If you ever see xrange, you are in Python 2\n",
    "    print(x) "
   ]
  },
  {
   "cell_type": "code",
   "execution_count": 15,
   "metadata": {},
   "outputs": [
    {
     "name": "stdout",
     "output_type": "stream",
     "text": [
      "test:  10\n",
      "test:  9\n",
      "test:  8\n",
      "test:  7\n",
      "test:  6\n",
      "test:  5\n",
      "test:  4\n",
      "test:  3\n",
      "test:  2\n"
     ]
    }
   ],
   "source": [
    "for i in range(10,1,-1):\n",
    "    # range(start (optional, default 0), end (exclusive), inc/dec (optional, default 1))\n",
    "    print('test: ', i)"
   ]
  },
  {
   "cell_type": "code",
   "execution_count": 16,
   "metadata": {},
   "outputs": [
    {
     "name": "stdout",
     "output_type": "stream",
     "text": [
      "0 + 1 =  1\n",
      "1 + 2 =  3\n",
      "3 + 3 =  6\n",
      "6 + 4 =  10\n",
      "10 + 5 =  15\n",
      "15 + 6 =  21\n",
      "21 + 7 =  28\n",
      "28 + 8 =  36\n",
      "36 + 9 =  45\n",
      "Final sum: 45\n"
     ]
    }
   ],
   "source": [
    "acc = 0\n",
    "for x in range(1, 10):\n",
    "    print(f\"{acc} + {x} =  \", end=\"\")\n",
    "    acc += x\n",
    "    print(acc)\n",
    "\n",
    "print(f\"Final sum: {acc}\")"
   ]
  },
  {
   "cell_type": "code",
   "execution_count": 17,
   "metadata": {},
   "outputs": [
    {
     "name": "stdout",
     "output_type": "stream",
     "text": [
      "[1, 2, 't', 'p'] <class 'list'>\n"
     ]
    }
   ],
   "source": [
    "l = [1, 2, 't', 'p' ]\n",
    "print(l, type(l))"
   ]
  },
  {
   "cell_type": "code",
   "execution_count": 18,
   "metadata": {},
   "outputs": [
    {
     "data": {
      "text/plain": [
       "2"
      ]
     },
     "execution_count": 18,
     "metadata": {},
     "output_type": "execute_result"
    }
   ],
   "source": [
    "l[1]"
   ]
  },
  {
   "cell_type": "code",
   "execution_count": 19,
   "metadata": {},
   "outputs": [
    {
     "data": {
      "text/plain": [
       "'p'"
      ]
     },
     "execution_count": 19,
     "metadata": {},
     "output_type": "execute_result"
    }
   ],
   "source": [
    "l[-1]"
   ]
  },
  {
   "cell_type": "code",
   "execution_count": 20,
   "metadata": {},
   "outputs": [
    {
     "data": {
      "text/plain": [
       "'t'"
      ]
     },
     "execution_count": 20,
     "metadata": {},
     "output_type": "execute_result"
    }
   ],
   "source": [
    "l[-2]"
   ]
  },
  {
   "cell_type": "code",
   "execution_count": 21,
   "metadata": {},
   "outputs": [
    {
     "data": {
      "text/plain": [
       "'t'"
      ]
     },
     "execution_count": 21,
     "metadata": {},
     "output_type": "execute_result"
    }
   ],
   "source": [
    "l[2]"
   ]
  },
  {
   "cell_type": "code",
   "execution_count": 22,
   "metadata": {},
   "outputs": [
    {
     "name": "stdout",
     "output_type": "stream",
     "text": [
      "{'BBA', 'ARCHI', 'EEE', 'MBA'} <class 'set'>\n"
     ]
    }
   ],
   "source": [
    "depts = {\"MBA\",\"EEE\",\"BBA\",\"ARCHI\"}\n",
    "print(depts, type(depts))"
   ]
  },
  {
   "cell_type": "code",
   "execution_count": 23,
   "metadata": {},
   "outputs": [
    {
     "name": "stdout",
     "output_type": "stream",
     "text": [
      "{'MBA', 'ARCHI', 'CS', 'BBA', 'EEE'}\n"
     ]
    }
   ],
   "source": [
    "depts.add(\"CS\")\n",
    "print(depts)"
   ]
  },
  {
   "cell_type": "code",
   "execution_count": 24,
   "metadata": {},
   "outputs": [
    {
     "name": "stdout",
     "output_type": "stream",
     "text": [
      "<zip object at 0x0000021D64E08BC8>\n",
      "[(1, 5), (2, 4), (3, 3), (4, 2), (5, 1)]\n"
     ]
    }
   ],
   "source": [
    "a = [1,2,3,4,5]\n",
    "b = [5,4,3,2,1]\n",
    "\n",
    "print(zip(a,b))\n",
    "print(list(zip(a,b)))"
   ]
  },
  {
   "cell_type": "code",
   "execution_count": 25,
   "metadata": {},
   "outputs": [
    {
     "name": "stdout",
     "output_type": "stream",
     "text": [
      "1 - 5 ==> -4\n",
      "2 - 4 ==> -2\n",
      "3 - 3 ==> 0\n",
      "4 - 2 ==> 2\n",
      "5 - 1 ==> 4\n"
     ]
    }
   ],
   "source": [
    "for x,y in zip(a,b):\n",
    "    print(f'{x} - {y} ==> {x-y}')"
   ]
  },
  {
   "cell_type": "code",
   "execution_count": 26,
   "metadata": {},
   "outputs": [
    {
     "name": "stdout",
     "output_type": "stream",
     "text": [
      "[0, 1, 2, 3, 4, 5, 6, 7, 8, 9]\n"
     ]
    }
   ],
   "source": [
    "arr1 = [0,1,2,3,4,5,6,7,8,9]\n",
    "arr1_copy = [i for i in arr1]\n",
    "print(arr1_copy)"
   ]
  },
  {
   "cell_type": "code",
   "execution_count": 27,
   "metadata": {},
   "outputs": [
    {
     "name": "stdout",
     "output_type": "stream",
     "text": [
      "[0, 1, 4, 9, 16, 25, 36, 49, 64, 81]\n"
     ]
    }
   ],
   "source": [
    "sq = [a**2 for a in arr1]\n",
    "print(sq)"
   ]
  },
  {
   "cell_type": "code",
   "execution_count": 28,
   "metadata": {},
   "outputs": [
    {
     "name": "stdout",
     "output_type": "stream",
     "text": [
      "[0, 4, 16, 36, 64]\n"
     ]
    }
   ],
   "source": [
    "sq_even = [x**2 for x in arr1 if x%2 == 0]\n",
    "print(sq_even)"
   ]
  },
  {
   "cell_type": "code",
   "execution_count": 29,
   "metadata": {},
   "outputs": [
    {
     "name": "stdout",
     "output_type": "stream",
     "text": [
      "{(0, 0): (0, 0), (1, 1): (1, 1), (2, 2): (2, 4), (3, 3): (3, 9), (4, 4): (4, 16), (5, 5): (5, 25), (6, 6): (6, 36), (7, 7): (7, 49), (8, 8): (8, 64), (9, 9): (9, 81)}\n"
     ]
    }
   ],
   "source": [
    "d = {(a,a): (a,a**2) for a in range(10)}\n",
    "print(d)"
   ]
  },
  {
   "cell_type": "code",
   "execution_count": 30,
   "metadata": {},
   "outputs": [
    {
     "name": "stdout",
     "output_type": "stream",
     "text": [
      "(7, 49)\n"
     ]
    }
   ],
   "source": [
    "print(d[(7,7)])"
   ]
  },
  {
   "cell_type": "code",
   "execution_count": null,
   "metadata": {},
   "outputs": [],
   "source": []
  }
 ],
 "metadata": {
  "kernelspec": {
   "display_name": "Python 3",
   "language": "python",
   "name": "python3"
  },
  "language_info": {
   "codemirror_mode": {
    "name": "ipython",
    "version": 3
   },
   "file_extension": ".py",
   "mimetype": "text/x-python",
   "name": "python",
   "nbconvert_exporter": "python",
   "pygments_lexer": "ipython3",
   "version": "3.6.6"
  }
 },
 "nbformat": 4,
 "nbformat_minor": 2
}
